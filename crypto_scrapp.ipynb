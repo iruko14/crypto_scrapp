{
 "cells": [
  {
   "cell_type": "markdown",
   "metadata": {},
   "source": [
    "**Import libraries**"
   ]
  },
  {
   "cell_type": "code",
   "execution_count": null,
   "metadata": {},
   "outputs": [],
   "source": [
    "import requests\n",
    "import pandas as pd\n",
    "from bs4 import BeautifulSoup\n",
    "import time\n",
    "from datetime import datetime"
   ]
  },
  {
   "cell_type": "markdown",
   "metadata": {},
   "source": [
    "### **Bitcoin request test**"
   ]
  },
  {
   "cell_type": "code",
   "execution_count": null,
   "metadata": {},
   "outputs": [],
   "source": [
    "# example URL:\n",
    "url = \"https://coinmarketcap.com/currencies/bitcoin/\""
   ]
  },
  {
   "cell_type": "markdown",
   "metadata": {},
   "source": [
    "**Request test**"
   ]
  },
  {
   "cell_type": "code",
   "execution_count": null,
   "metadata": {},
   "outputs": [],
   "source": [
    "response = requests.get(url)\n",
    "\n",
    "if response.status_code == 200:\n",
    "    print(response.status_code)\n",
    "else:\n",
    "    print(\"Request failed with status code:\", response.status_code)"
   ]
  },
  {
   "cell_type": "markdown",
   "metadata": {},
   "source": [
    "### **Scrapping price values**"
   ]
  },
  {
   "cell_type": "markdown",
   "metadata": {},
   "source": [
    "**Find price**"
   ]
  },
  {
   "cell_type": "code",
   "execution_count": null,
   "metadata": {},
   "outputs": [],
   "source": [
    "# declare soup\n",
    "response = requests.get(url)\n",
    "soup = BeautifulSoup(response.content, 'html.parser')\n",
    "# find price\n",
    "price = soup.find('span', class_='sc-65e7f566-0 clvjgF base-text')\n",
    "print(price.text)"
   ]
  },
  {
   "cell_type": "markdown",
   "metadata": {},
   "source": [
    "**Find market cap**"
   ]
  },
  {
   "cell_type": "code",
   "execution_count": null,
   "metadata": {},
   "outputs": [],
   "source": [
    "# find market cap\n",
    "marketcap = soup.find('dd', class_='sc-65e7f566-0 dzgtSD base-text')\n",
    "print(marketcap.text)"
   ]
  },
  {
   "cell_type": "markdown",
   "metadata": {},
   "source": [
    "**Dataframe storage**"
   ]
  },
  {
   "cell_type": "code",
   "execution_count": null,
   "metadata": {},
   "outputs": [],
   "source": [
    "# creating dataframe\n",
    "df = pd.DataFrame(columns = ['Price', 'Market cap'])\n",
    "\n",
    "# append values\n",
    "df['Price'] = price\n",
    "df['Market cap'] = marketcap.text\n",
    "# cleaning Market cap\n",
    "df['Market cap'] = df['Market cap'].str.slice(5)\n",
    "\n",
    "df\n"
   ]
  },
  {
   "cell_type": "markdown",
   "metadata": {},
   "source": [
    "### **Scrapping loop**"
   ]
  },
  {
   "cell_type": "markdown",
   "metadata": {},
   "source": [
    "**Bitcoin price record dataframe**"
   ]
  },
  {
   "cell_type": "code",
   "execution_count": null,
   "metadata": {},
   "outputs": [],
   "source": [
    "price_df = pd.DataFrame(columns = ['Price', 'Market cap', 'Timestamp'])\n",
    "price_df"
   ]
  },
  {
   "cell_type": "markdown",
   "metadata": {},
   "source": [
    "**Setting up execution time frames**"
   ]
  },
  {
   "cell_type": "code",
   "execution_count": null,
   "metadata": {},
   "outputs": [],
   "source": [
    "timeout = time.time() + 60*60"
   ]
  },
  {
   "cell_type": "markdown",
   "metadata": {},
   "source": [
    "**Creating loop**"
   ]
  },
  {
   "cell_type": "code",
   "execution_count": null,
   "metadata": {},
   "outputs": [],
   "source": [
    "while True:\n",
    "    c = 0\n",
    "\n",
    "    # create transition dataframe\n",
    "    record = pd.DataFrame(columns = ['Price', 'Market cap', 'Timestamp'])\n",
    "\n",
    "    # request page\n",
    "    response = requests.get(url)\n",
    "    soup = BeautifulSoup(response.content, 'html.parser')\n",
    "    # find price\n",
    "    price = soup.find('span', class_='sc-65e7f566-0 clvjgF base-text')\n",
    "    # find market cap\n",
    "    marketcap = soup.find('dd', class_='sc-65e7f566-0 dzgtSD base-text')\n",
    "\n",
    "    # storage  values on record\n",
    "    record['Price'] = price\n",
    "    record['Market cap'] = marketcap.text\n",
    "    # cleaning Market cap\n",
    "    record['Market cap'] = record['Market cap'].str.slice(5)\n",
    "    # set Timestamp\n",
    "    record['Timestamp'] = datetime.today().strftime('%m/%d/%Y %H:%M')\n",
    "\n",
    "    # record append on price_df\n",
    "    price_df = pd.concat([price_df, record], ignore_index=True)\n",
    "    \n",
    "    # timeframe repeat\n",
    "    time.sleep(150)\n",
    "\n",
    "    # close loop\n",
    "    if c == 5 or time.time() > timeout:\n",
    "        break\n",
    "    "
   ]
  },
  {
   "cell_type": "code",
   "execution_count": null,
   "metadata": {},
   "outputs": [],
   "source": [
    "price_df"
   ]
  }
 ],
 "metadata": {
  "kernelspec": {
   "display_name": "crypto_test",
   "language": "python",
   "name": "python3"
  },
  "language_info": {
   "codemirror_mode": {
    "name": "ipython",
    "version": 3
   },
   "file_extension": ".py",
   "mimetype": "text/x-python",
   "name": "python",
   "nbconvert_exporter": "python",
   "pygments_lexer": "ipython3",
   "version": "3.12.1"
  }
 },
 "nbformat": 4,
 "nbformat_minor": 2
}

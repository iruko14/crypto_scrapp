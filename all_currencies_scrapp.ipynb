{
 "cells": [
  {
   "cell_type": "markdown",
   "metadata": {},
   "source": [
    "**Import libraries**"
   ]
  },
  {
   "cell_type": "code",
   "execution_count": 1,
   "metadata": {},
   "outputs": [],
   "source": [
    "import requests\n",
    "import pandas as pd\n",
    "from bs4 import BeautifulSoup\n",
    "import time\n",
    "from datetime import datetime"
   ]
  },
  {
   "cell_type": "markdown",
   "metadata": {},
   "source": [
    "### **Scrapping currencies**"
   ]
  },
  {
   "cell_type": "markdown",
   "metadata": {},
   "source": [
    "**Declaring currencies URL**"
   ]
  },
  {
   "cell_type": "code",
   "execution_count": 2,
   "metadata": {},
   "outputs": [
    {
     "data": {
      "text/html": [
       "<div>\n",
       "<style scoped>\n",
       "    .dataframe tbody tr th:only-of-type {\n",
       "        vertical-align: middle;\n",
       "    }\n",
       "\n",
       "    .dataframe tbody tr th {\n",
       "        vertical-align: top;\n",
       "    }\n",
       "\n",
       "    .dataframe thead th {\n",
       "        text-align: right;\n",
       "    }\n",
       "</style>\n",
       "<table border=\"1\" class=\"dataframe\">\n",
       "  <thead>\n",
       "    <tr style=\"text-align: right;\">\n",
       "      <th></th>\n",
       "      <th>Currency</th>\n",
       "      <th>Link</th>\n",
       "    </tr>\n",
       "  </thead>\n",
       "  <tbody>\n",
       "    <tr>\n",
       "      <th>0</th>\n",
       "      <td>Bitcoin</td>\n",
       "      <td>https://coinmarketcap.com/currencies/bitcoin/</td>\n",
       "    </tr>\n",
       "    <tr>\n",
       "      <th>1</th>\n",
       "      <td>Jupiter</td>\n",
       "      <td>https://coinmarketcap.com/currencies/jupiter-ag/</td>\n",
       "    </tr>\n",
       "    <tr>\n",
       "      <th>2</th>\n",
       "      <td>Tars Protocol</td>\n",
       "      <td>https://coinmarketcap.com/currencies/tars-prot...</td>\n",
       "    </tr>\n",
       "    <tr>\n",
       "      <th>3</th>\n",
       "      <td>Solana</td>\n",
       "      <td>https://coinmarketcap.com/currencies/solana/</td>\n",
       "    </tr>\n",
       "    <tr>\n",
       "      <th>4</th>\n",
       "      <td>Ethereum</td>\n",
       "      <td>https://coinmarketcap.com/currencies/ethereum/</td>\n",
       "    </tr>\n",
       "    <tr>\n",
       "      <th>5</th>\n",
       "      <td>XRP</td>\n",
       "      <td>https://coinmarketcap.com/currencies/xrp/</td>\n",
       "    </tr>\n",
       "    <tr>\n",
       "      <th>6</th>\n",
       "      <td>Kaspa</td>\n",
       "      <td>https://coinmarketcap.com/currencies/kaspa/</td>\n",
       "    </tr>\n",
       "    <tr>\n",
       "      <th>7</th>\n",
       "      <td>Notcoin</td>\n",
       "      <td>https://coinmarketcap.com/currencies/notcoin/</td>\n",
       "    </tr>\n",
       "  </tbody>\n",
       "</table>\n",
       "</div>"
      ],
      "text/plain": [
       "        Currency                                               Link\n",
       "0        Bitcoin      https://coinmarketcap.com/currencies/bitcoin/\n",
       "1        Jupiter   https://coinmarketcap.com/currencies/jupiter-ag/\n",
       "2  Tars Protocol  https://coinmarketcap.com/currencies/tars-prot...\n",
       "3         Solana       https://coinmarketcap.com/currencies/solana/\n",
       "4       Ethereum     https://coinmarketcap.com/currencies/ethereum/\n",
       "5            XRP          https://coinmarketcap.com/currencies/xrp/\n",
       "6          Kaspa        https://coinmarketcap.com/currencies/kaspa/\n",
       "7        Notcoin      https://coinmarketcap.com/currencies/notcoin/"
      ]
     },
     "execution_count": 2,
     "metadata": {},
     "output_type": "execute_result"
    }
   ],
   "source": [
    "bitcoin = 'https://coinmarketcap.com/currencies/bitcoin/'\n",
    "jupiter = 'https://coinmarketcap.com/currencies/jupiter-ag/'\n",
    "tars = 'https://coinmarketcap.com/currencies/tars-protocol/'\n",
    "solana = 'https://coinmarketcap.com/currencies/solana/'\n",
    "ethereum = 'https://coinmarketcap.com/currencies/ethereum/'\n",
    "xrp = 'https://coinmarketcap.com/currencies/xrp/'\n",
    "kaspa = 'https://coinmarketcap.com/currencies/kaspa/'\n",
    "notcoin = 'https://coinmarketcap.com/currencies/notcoin/'\n",
    "\n",
    "# storage the links in a list\n",
    "\n",
    "data = {\n",
    "    \"Bitcoin\": bitcoin,\n",
    "    \"Jupiter\": jupiter,\n",
    "    \"Tars Protocol\": tars,\n",
    "    \"Solana\": solana,\n",
    "    \"Ethereum\": ethereum,\n",
    "    \"XRP\": xrp,\n",
    "    \"Kaspa\": kaspa,\n",
    "    \"Notcoin\": notcoin\n",
    "}\n",
    "\n",
    "# convert the dictionary to a pandas DataFrame\n",
    "\n",
    "links = pd.DataFrame(data.items(), columns=[\"Currency\", \"Link\"])\n",
    "links"
   ]
  },
  {
   "cell_type": "markdown",
   "metadata": {},
   "source": [
    "**Creating price dataframe**"
   ]
  },
  {
   "cell_type": "code",
   "execution_count": 3,
   "metadata": {},
   "outputs": [
    {
     "data": {
      "text/html": [
       "<div>\n",
       "<style scoped>\n",
       "    .dataframe tbody tr th:only-of-type {\n",
       "        vertical-align: middle;\n",
       "    }\n",
       "\n",
       "    .dataframe tbody tr th {\n",
       "        vertical-align: top;\n",
       "    }\n",
       "\n",
       "    .dataframe thead th {\n",
       "        text-align: right;\n",
       "    }\n",
       "</style>\n",
       "<table border=\"1\" class=\"dataframe\">\n",
       "  <thead>\n",
       "    <tr style=\"text-align: right;\">\n",
       "      <th></th>\n",
       "      <th>Currency</th>\n",
       "      <th>Price</th>\n",
       "      <th>Market cap</th>\n",
       "      <th>Timestamp</th>\n",
       "    </tr>\n",
       "  </thead>\n",
       "  <tbody>\n",
       "  </tbody>\n",
       "</table>\n",
       "</div>"
      ],
      "text/plain": [
       "Empty DataFrame\n",
       "Columns: [Currency, Price, Market cap, Timestamp]\n",
       "Index: []"
      ]
     },
     "execution_count": 3,
     "metadata": {},
     "output_type": "execute_result"
    }
   ],
   "source": [
    "price_df = pd.DataFrame(columns = ['Currency', 'Price', 'Market cap', 'Timestamp'])\n",
    "price_df"
   ]
  },
  {
   "cell_type": "markdown",
   "metadata": {},
   "source": [
    "**Setting up execution time frames**"
   ]
  },
  {
   "cell_type": "code",
   "execution_count": 4,
   "metadata": {},
   "outputs": [],
   "source": [
    "timeout = time.time() + 60*5"
   ]
  },
  {
   "cell_type": "markdown",
   "metadata": {},
   "source": [
    "**Creating loop**"
   ]
  },
  {
   "cell_type": "code",
   "execution_count": 6,
   "metadata": {},
   "outputs": [
    {
     "name": "stdout",
     "output_type": "stream",
     "text": [
      "  Currency       Price          Market cap         Timestamp\n",
      "0  Bitcoin  $59,493.15  $1,175,192,780,383  08/20/2024 18:17\n",
      "  Currency    Price      Market cap         Timestamp\n",
      "0  Jupiter  $0.7886  $1,064,654,961  08/20/2024 18:17\n",
      "        Currency    Price   Market cap         Timestamp\n",
      "0  Tars Protocol  $0.1392  $17,260,802  08/20/2024 18:17\n",
      "  Currency    Price       Market cap         Timestamp\n",
      "0   Solana  $143.46  $66,912,791,126  08/20/2024 18:17\n",
      "   Currency      Price        Market cap         Timestamp\n",
      "0  Ethereum  $2,591.62  $311,743,217,201  08/20/2024 18:17\n",
      "  Currency    Price       Market cap         Timestamp\n",
      "0      XRP  $0.5967  $33,482,725,660  08/20/2024 18:17\n",
      "  Currency    Price      Market cap         Timestamp\n",
      "0    Kaspa  $0.1611  $3,946,728,959  08/20/2024 18:17\n",
      "  Currency     Price      Market cap         Timestamp\n",
      "0  Notcoin  $0.01069  $1,095,501,975  08/20/2024 18:17\n"
     ]
    }
   ],
   "source": [
    "while True:\n",
    "    c = 0\n",
    "    \n",
    "    # for loop to iterate links and scrapp values\n",
    "    for index, row in links.iterrows():\n",
    "\n",
    "        # request page\n",
    "        response = requests.get(row['Link'])\n",
    "        soup = BeautifulSoup(response.content, 'html.parser')\n",
    "        \n",
    "        # find price\n",
    "        price = soup.find('span', class_='sc-65e7f566-0 clvjgF base-text')\n",
    "        # find market cap\n",
    "        marketcap = soup.find('dd', class_='sc-65e7f566-0 dzgtSD base-text').text\n",
    "        \n",
    "        # marketcap cleaning\n",
    "        dollar_index = marketcap.find('$')\n",
    "        if dollar_index != -1:\n",
    "            marketcap = marketcap[dollar_index:]\n",
    "\n",
    "        # setting transition dataframe\n",
    "        record = pd.DataFrame({\n",
    "        'Currency': row['Currency'],\n",
    "        'Price': price,\n",
    "        'Market cap': marketcap,\n",
    "        'Timestamp': datetime.today().strftime('%m/%d/%Y %H:%M')\n",
    "        }, index=[0])\n",
    "\n",
    "        #print(name)\n",
    "        print(record)\n",
    "\n",
    "        # record append on price_df\n",
    "        price_df = pd.concat([price_df, record], ignore_index=True)\n",
    "    \n",
    "    # timeframe repeat\n",
    "    time.sleep(150)\n",
    "\n",
    "    # close loop\n",
    "    if c == 5 or time.time() > timeout:\n",
    "        break\n",
    "    "
   ]
  },
  {
   "cell_type": "code",
   "execution_count": null,
   "metadata": {},
   "outputs": [],
   "source": [
    "price_df"
   ]
  }
 ],
 "metadata": {
  "kernelspec": {
   "display_name": "crypto_test",
   "language": "python",
   "name": "python3"
  },
  "language_info": {
   "codemirror_mode": {
    "name": "ipython",
    "version": 3
   },
   "file_extension": ".py",
   "mimetype": "text/x-python",
   "name": "python",
   "nbconvert_exporter": "python",
   "pygments_lexer": "ipython3",
   "version": "3.12.1"
  }
 },
 "nbformat": 4,
 "nbformat_minor": 2
}
